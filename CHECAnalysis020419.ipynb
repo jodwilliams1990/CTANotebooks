{
 "cells": [
  {
   "cell_type": "markdown",
   "metadata": {},
   "source": [
    "# CHEC Data Analysis"
   ]
  },
  {
   "cell_type": "markdown",
   "metadata": {},
   "source": [
    "This jupyter notebook will advise how to use CHECLabPy and CTAPipe on the HSI-UoL Apple Mac.\n",
    "\n",
    "Log in through \"chec\". The password (clue) is \"where will CHEC be in when?\""
   ]
  },
  {
   "cell_type": "markdown",
   "metadata": {},
   "source": [
    "# Download Data"
   ]
  },
  {
   "cell_type": "markdown",
   "metadata": {},
   "source": [
    "IN TERMINAL: <br><br>\n",
    "\n",
    "cd to the directory that you want to download the data to. <br>\n",
    "\n",
    "Use wget to download the file that is required. This will require knowledge of the mpi-hd.../white/checs directory and where the file is saved. <br>\n",
    "\"\n",
    "wget --user **** --password ******** https://www.mpi-hd.mpg.de/personalhomes/white/checs/data/d2018-05-14_DynamicRange_noNSB_5degC_gainmatched-200mV/Run43461_r0.tio\n",
    "\""
   ]
  },
  {
   "cell_type": "markdown",
   "metadata": {},
   "source": [
    "# R0 and R1 Analysis "
   ]
  },
  {
   "cell_type": "markdown",
   "metadata": {},
   "source": [
    "R0 and R1 analysis can be done with \"r0r1readin.py\". This must be done with PyCharm because of TioReader.\n",
    "\n",
    "This is at an initial stage, but uses the same basis as the DL1 read in explained later. Each waveform consists of 128 points 1ns apart. A given number of events are in each R1 file. This can be read and plot on the camera, or into a numpy array and averaged.\n",
    "\n",
    "r0r1readin.py can also be used to illustrate the pulse height for each pixel at each time stamp.\n",
    "\n",
    "A template r0r1readin.py can be found on the desktop, and specific codes can be found in the relevant projects under users/chec/Desktop/CHECData/\n",
    "\n",
    "JOBS TO DO:\n",
    "- Right as definitions"
   ]
  },
  {
   "cell_type": "markdown",
   "metadata": {},
   "source": [
    "# R0 --> R1 Conversion "
   ]
  },
  {
   "cell_type": "markdown",
   "metadata": {},
   "source": [
    "In terminal, follow the instructions on Jason Watson's tutorial to generate the pedestal and apply the calibration."
   ]
  },
  {
   "cell_type": "markdown",
   "metadata": {},
   "source": [
    "# R1-->DL1 Conversion "
   ]
  },
  {
   "cell_type": "markdown",
   "metadata": {},
   "source": [
    "IN TERMINAL <br><br>\n",
    "cd to /users/chec/software/checlabpy/scipts\n",
    "\n",
    "Run:\n",
    "<br>\"\n",
    "python extract_dl1.py -f /Users/chec/desktop/CHECData/DIR/FILE_NAME_r1.tio -r CrossCorrelation\n",
    "\" <br><br>\n",
    "If analysing monitor files too, use:<br>\n",
    "\"\n",
    "python extract_dl1.py -f /Users/chec/desktop/CHECData/DIR/FILE_NAME_r1.tio -m /users/chec/Desktop/CHECData/DIR/FILE_NAME.mon\n",
    "\"\n",
    "<br>\n",
    "<br>\n",
    "This will output the _dl1.h5 file to the same directory as the original _r1.tio file.\n",
    "\n",
    "JOBS TO DO:\n",
    "- Write as a script\n"
   ]
  },
  {
   "cell_type": "markdown",
   "metadata": {},
   "source": [
    "# DL1 Analysis - How to...?"
   ]
  },
  {
   "cell_type": "markdown",
   "metadata": {},
   "source": [
    "I have written a code that incorporates data read in of DL1 files and analysis. This is rough, ready and being tidied up, but is able to be the basis of any basic DL1 analysis. This is based over four files, DL1readin.py, DL1processing.py, DL1plotting.py and cDL1readinandplot.py, which are all based on /users/CHEC/desktop. These codes are also backed up to github.com/jodwilliams1990 as well. These should be the template for any analysis script, so should be duplicated before any tinkering! <br><br>\n",
    "\n",
    "DL1 analysis can be done in either Spyder OR PyCharm. Whichever you prefer. <br><br>\n",
    "\n",
    "The basis of DL1 analysis can be found in Jason Watson's CHECLabPy tutorials on github.com/cta-chec/checasiv/chec_analysis_call.<br><br>\n",
    "\n",
    "\n",
    "Template DL1 analysis scripts can be found on the desktop, and specific codes can be found in the relevant projects under users/chec/Desktop/CHECData/ <br><br>\n",
    "JOBS TO DO:\n",
    "- Import \"Programs\" into the analysis python script\n",
    "- Build in Monitor data\n",
    "- DL1 SPE\n",
    "\n",
    "Below are links to DL1 analyses:"
   ]
  },
  {
   "cell_type": "markdown",
   "metadata": {},
   "source": [
    "[Gain Drop with NSB=1000MHz as a function of PE](GainDropwithNSB.ipynb) <br>\n",
    "[Time Jitter](TimeJitter.ipynb) <br>\n",
    "[Temp/NSB](TempNSBTime.ipynb)"
   ]
  }
 ],
 "metadata": {
  "kernelspec": {
   "display_name": "Python 3",
   "language": "python",
   "name": "python3"
  },
  "language_info": {
   "codemirror_mode": {
    "name": "ipython",
    "version": 3
   },
   "file_extension": ".py",
   "mimetype": "text/x-python",
   "name": "python",
   "nbconvert_exporter": "python",
   "pygments_lexer": "ipython3",
   "version": "3.6.6"
  }
 },
 "nbformat": 4,
 "nbformat_minor": 2
}
