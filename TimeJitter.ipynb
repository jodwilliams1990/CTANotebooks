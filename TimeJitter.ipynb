{
 "cells": [
  {
   "cell_type": "markdown",
   "metadata": {},
   "source": [
    "# Time Jitter"
   ]
  },
  {
   "cell_type": "markdown",
   "metadata": {},
   "source": [
    "This JuPyter notebook describes the study of the Time Jitter in single module data"
   ]
  },
  {
   "cell_type": "markdown",
   "metadata": {},
   "source": [
    "# Data"
   ]
  },
  {
   "cell_type": "markdown",
   "metadata": {},
   "source": [
    "The data used was single module data acquired by Jon Lapington in MPIK. 50PE data for different NSB rates, mainly 0MHz. This data was compared against the analysis by Inga Kerber at MPIK over the summer of 2018 for the entire camera."
   ]
  },
  {
   "cell_type": "markdown",
   "metadata": {},
   "source": [
    "# $T_{Pulse}$ Analysis"
   ]
  },
  {
   "cell_type": "markdown",
   "metadata": {},
   "source": [
    "![title](CHECdata/NSB050mV50PE/Time_Jitter_Single_TM_Camera_Comp/tpulsehistogram(nocorrection,50PEdiffNSB).png)<br>Figure 1: Histogram of all $T_{Pulse}$ for NSB=0MHz to NSB=1000MHz. Two peaks approximately 2ns apart. Independent of NSB."
   ]
  },
  {
   "cell_type": "markdown",
   "metadata": {},
   "source": [
    "![title](CHECdata/NSB050mV50PE/Time_Jitter_Single_TM_Camera_Comp/meanperpixel50PE0NSB.png)<br>Figure 1: Mean $T_{Pulse}$ for each pixel (approximately 2000 events). 1 ASIC much slower than the rest."
   ]
  },
  {
   "cell_type": "markdown",
   "metadata": {},
   "source": [
    "![title](CHECdata/NSB050mV50PE/Time_Jitter_Single_TM_Camera_Comp/sigmaperpixel50PE0NSB.png)<br>Figure 1: $T_{Pulse}$ distribution for each pixel (approximately 2000 events)."
   ]
  },
  {
   "cell_type": "markdown",
   "metadata": {},
   "source": [
    "![title](CHECdata/NSB050mV50PE/Time_Jitter_Single_TM_Camera_Comp/tpulseeachpixel.png)<br>Figure 1: $T_{Pulse}$ plot against each pixel."
   ]
  },
  {
   "cell_type": "markdown",
   "metadata": {},
   "source": [
    "![title](CHECdata/NSB050mV50PE/Time_Jitter_Single_TM_Camera_Comp/16pixaverageover2216events.png)<br> 16 R1 waveforms averaged over 2216 events on one module."
   ]
  },
  {
   "cell_type": "markdown",
   "metadata": {},
   "source": [
    "![title](CHECdata/NSB050mV50PE/Time_Jitter_Single_TM_Camera_Comp/argmaxtpulse.png)<br> Histogram of $T_{Pulse}$ corresponding to pulse height maximum."
   ]
  },
  {
   "cell_type": "markdown",
   "metadata": {},
   "source": [
    "# $T_{Pulse}$ - $T_{Event}$ Analysis"
   ]
  },
  {
   "cell_type": "markdown",
   "metadata": {},
   "source": [
    "![title](CHECdata/NSB050mV50PE/Time_Jitter_Single_TM_Camera_Comp/tpulseteventeachpixel.png)<br>Figure 1: Mean $T_{Pulse}$-$T_{Event}$ for each pixel (approximately 2000 events)."
   ]
  },
  {
   "cell_type": "markdown",
   "metadata": {},
   "source": [
    "![title](CHECdata/NSB050mV50PE/Time_Jitter_Single_TM_Camera_Comp/sigmaeachpixeltpulsetevent.png)<br>Figure 1: $T_{Pulse}$-$T_{Event}$ distribution for each pixel (approximately 2000 events)."
   ]
  },
  {
   "cell_type": "markdown",
   "metadata": {},
   "source": [
    "![title](CHECdata/NSB050mV50PE/Time_Jitter_Single_TM_Camera_Comp/tpulseteventeachpixel2.png)<br>Figure 1: $T_{Pulse}$-$T_{Event}$ plot against each pixel."
   ]
  },
  {
   "cell_type": "markdown",
   "metadata": {},
   "source": [
    "# $ T_{Pulse}$ Variation"
   ]
  },
  {
   "cell_type": "markdown",
   "metadata": {},
   "source": [
    "![title](CHECdata/NSB050mV50PE/Time_Jitter_Single_TM_Camera_Comp/tpulseteventeachasic.png)<br>Figure 1: Histogram of $T_{Pulse}$ per ASIC. 2ns offset for TL-ASIC. Why discretised?"
   ]
  },
  {
   "cell_type": "markdown",
   "metadata": {},
   "source": [
    "![title](CHECdata/NSB050mV50PE/Time_Jitter_Single_TM_Camera_Comp/tpulseeachspeachasic.png)<br>Figure 1: Histogram of $T_{Pulse}$ per SP and per ASIC. Still discretised. Why?"
   ]
  },
  {
   "cell_type": "markdown",
   "metadata": {},
   "source": [
    "![title](CHECdata/NSB050mV50PE/Time_Jitter_Single_TM_Camera_Comp/tpulseoverchargeallasicssps.png)<br>Figure 1: $T_{Pulse}$/charge per SP and per ASIC. Why?"
   ]
  },
  {
   "cell_type": "markdown",
   "metadata": {},
   "source": [
    "# Other Parameters"
   ]
  },
  {
   "cell_type": "markdown",
   "metadata": {},
   "source": [
    "![title](CHECdata/NSB050mV50PE/Time_Jitter_Single_TM_Camera_Comp/tpulsecharge.png)<br>Figure 1: $T_{Pulse}$ plot against the corresponding pixel charge."
   ]
  },
  {
   "cell_type": "markdown",
   "metadata": {},
   "source": [
    "![title](CHECdata/NSB050mV50PE/Time_Jitter_Single_TM_Camera_Comp/ctpindividpix.png)<br>Figure 1: $T_{Pulse}$ plot against the corresponding pixel charge for 16 different pixels.<br>![title](CHECdata/NSB050mV50PE/Time_Jitter_Single_TM_Camera_Comp/tpcindividpix2.png) <br> Figure 1: $T_{Pulse}$ plot against the corresponding pixel charge for 16 different pixels."
   ]
  },
  {
   "cell_type": "markdown",
   "metadata": {},
   "source": [
    "![title](CHECdata/NSB050mV50PE/Time_Jitter_Single_TM_Camera_Comp/ttack.png)<br>Figure 1: $T_{Tack}$ plot for each ASIC."
   ]
  },
  {
   "cell_type": "markdown",
   "metadata": {},
   "source": [
    "![title](CHECdata/NSB050mV50PE/Time_Jitter_Single_TM_Camera_Comp/tevent.png)<br>Figure 1: $T_{Event}$ plot for each ASIC. The same all over - different to what Rich is expecting!"
   ]
  },
  {
   "cell_type": "markdown",
   "metadata": {},
   "source": [
    "# What next?"
   ]
  },
  {
   "cell_type": "markdown",
   "metadata": {},
   "source": [
    "- Time resolution\n",
    "- Interpolate R1 data\n",
    "- "
   ]
  },
  {
   "cell_type": "code",
   "execution_count": null,
   "metadata": {},
   "outputs": [],
   "source": []
  }
 ],
 "metadata": {
  "kernelspec": {
   "display_name": "Python 3",
   "language": "python",
   "name": "python3"
  },
  "language_info": {
   "codemirror_mode": {
    "name": "ipython",
    "version": 3
   },
   "file_extension": ".py",
   "mimetype": "text/x-python",
   "name": "python",
   "nbconvert_exporter": "python",
   "pygments_lexer": "ipython3",
   "version": "3.6.6"
  }
 },
 "nbformat": 4,
 "nbformat_minor": 2
}
