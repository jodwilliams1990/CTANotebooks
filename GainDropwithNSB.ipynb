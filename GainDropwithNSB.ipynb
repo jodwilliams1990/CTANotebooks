{
 "cells": [
  {
   "cell_type": "markdown",
   "metadata": {},
   "source": [
    "# Gain Drop with NSB=1000MHz as a function of PE"
   ]
  },
  {
   "cell_type": "markdown",
   "metadata": {},
   "source": [
    "This Jupyter notebook will outline the analysis of the gain drop for increasing NSB, and how this is varies as a function of PE. This is used to compare the theoretical gain drop to the measured."
   ]
  },
  {
   "cell_type": "markdown",
   "metadata": {},
   "source": [
    "# Downloaded Data"
   ]
  },
  {
   "cell_type": "markdown",
   "metadata": {},
   "source": [
    "Data was downloaded from https://www.mpi-hd.mpg.de/personalhomes/white/checs/singletmdata/ , acquired by Jon Lapington in MPIK on 10th October. The R1 files were downloaded and converted to DL1. These files can be found in /users/chec/desktop/CHECData/ in the \"50PEdiffNSB\" and \"gaindropwithpe\" folders."
   ]
  },
  {
   "cell_type": "markdown",
   "metadata": {},
   "source": [
    "# R1 Analysis "
   ]
  },
  {
   "cell_type": "markdown",
   "metadata": {},
   "source": [
    "R1 data at ~1, 100 and 2500PE was analysed for the 0 and 1000MHz data sets, using r0r1readin.py, which can be found in the \"gaindropwithpe/scripts\" folder. <br><br>"
   ]
  },
  {
   "cell_type": "markdown",
   "metadata": {},
   "source": [
    "![title](CHECdata/GainDropatdifferentPE/Plots/r1091PENSB1000NSB0.png)<br>FIGURE 1: Single pixel R1 for event 10, pixel 20, for 0.91PE at 0MHz and 1000MHz."
   ]
  },
  {
   "cell_type": "markdown",
   "metadata": {},
   "source": [
    "![title](CHECdata/GainDropatdifferentPE/Plots/r1NSB1000NSB0average.png)<br>FIGURE 2: Single pixel R1 averaged for all events for 0.91PE at 0MHz and 1000MHz. This shows the NSB \"clumping\" effect."
   ]
  },
  {
   "cell_type": "markdown",
   "metadata": {},
   "source": [
    "![title](CHECdata/GainDropatdifferentPE/Plots/r1NSB1000NSB0100PEaverage.png)<br>FIGURE 3: Single pixel R1 averaged across all events for event 10, for 100PE at 0MHz and 1000MHz."
   ]
  },
  {
   "cell_type": "markdown",
   "metadata": {},
   "source": [
    "![title](CHECdata/GainDropatdifferentPE/Plots/r1NSB1000NSB02500PE.png)<br>FIGURE 4: Single pixel R1 averaged across all events for event 10, for 2500PE at 0MHz and 1000MHz."
   ]
  },
  {
   "cell_type": "markdown",
   "metadata": {},
   "source": [
    "# Checking the \"Clumping\" Effect"
   ]
  },
  {
   "cell_type": "markdown",
   "metadata": {},
   "source": [
    "There was a concern that the unusual NSB clumping is due to using the wrong pedestal. The effect on a single NSB run was checked using data from Steve Leach's run at MPIK on 4/10/18, and both this data and the data acquired by Jon Lapington was averaged to see how it tended to zero.\n",
    "\n",
    "Acquired using \"r0r1readin(2..fSALdata).py\""
   ]
  },
  {
   "cell_type": "markdown",
   "metadata": {},
   "source": [
    "a) ![title](CHECdata/410181000NSB0NSB0PE/NSB1000NSB0pix20andavg.png)b) ![title](CHECdata/410181000NSB0NSB0PE/410181000NSB0NSB0PE2.png)<br>FIGURE 5: 0PE data with 40MHz and 1000MHz NSB levels for a single pixel. Significantly higher clumping at 1000MHz. Average across all the high NSB data is the green line. Data from S Leach"
   ]
  },
  {
   "cell_type": "markdown",
   "metadata": {},
   "source": [
    "![title](CHECdata/GainDropatdifferentPE/NSBaveraged~11200events64pixels.png)<br>FIGURE 6: Average signal from all 64 pixels across 11200 events for 0.91PE and 1000MHz/40MHz. Averaged about zero, but still large variance. Data from J Lapington.Wrong pedestal used??"
   ]
  },
  {
   "cell_type": "markdown",
   "metadata": {},
   "source": [
    "a) ![title](CHECdata/singletmdcrvsnsb/NSB1000NSB00PENSBavg.png)b)![title](CHECdata/singletmdcrvsnsb/NSB1000NSB00PENSBavg2.png)<br>FIGURE 7: Average signal from all 64 pixels across 11200 events for 0PE and 1000MHz/0MHz for the data acquired by Jon Lapington (acquired the day before the data above). Average ~ zero. Suggests that clumping is stochastic, large noise seen immediately above due to laser?"
   ]
  },
  {
   "cell_type": "markdown",
   "metadata": {},
   "source": [
    "## Summary\n",
    "\n",
    "- Jon's data and Steve's data both show \"clumping\" at high NSB\n",
    "- In figure 5 and figure 7 this both averages to 0mV for 0PE.\n",
    "- In figure 6, at 0.91 PE, the variance is greater for 0MHz and 1000MHz and offset from 0MV. The data in figure was acquired a day later, so perhaps the wrong pedestal was used? Alternatively, is the noise due to the laser?\n",
    "- Clumping effects appear stochastic."
   ]
  },
  {
   "cell_type": "markdown",
   "metadata": {},
   "source": [
    "# 50PE, Gain(NSB)"
   ]
  },
  {
   "cell_type": "markdown",
   "metadata": {},
   "source": [
    "This shows initial analysis of 50PE data sets at 0, 40, 125, 250 and 1000MHz. This shows that the signal does drop away with increasing NSB, due to increase in temperature, change in breakdown voltage etc. Data from J Lapington, acquired 10/10/18"
   ]
  },
  {
   "cell_type": "markdown",
   "metadata": {},
   "source": [
    "![title](CHECdata/50PEdiffNSB/Plots/PulseHeight.png)<br>FIGURE 8: Single pixel R1 averaged across all events for event 10, for 50PE at 0MHz and 1000MHz."
   ]
  },
  {
   "cell_type": "markdown",
   "metadata": {},
   "source": [
    "## Summary\n",
    "\n",
    "- Jon's data shows the expected exponential decrease in pulse height with NSB, dropping to ~45mV at 1000MHz from 65mV at 40MHz.\n",
    "- Decrease of ~30-40% is greater than theoretically expected. Does this gain drop vary with PE?"
   ]
  },
  {
   "cell_type": "markdown",
   "metadata": {},
   "source": [
    "# Gain(NSB=1000MHz)/Gain(NSB=0MHz) as a function of PE"
   ]
  },
  {
   "cell_type": "markdown",
   "metadata": {},
   "source": [
    "Further data was analysed to consider the fractional and percentage drop in gain with the increase in NSB. There is a slight change in Si_T, which will result in an effective increase in NSB. This is approximately 2% per degrees C, so ~4% between NSB=0MHZ (~19C) and NSB=1000MHz (~21C).\n",
    "<br>\n",
    "<br>\n",
    "These results suggest three distinct regions: <br>1) at low PE, where the signal from the laser illumination alone is smaller than the effective \"clumping\" of NSB, such that it leads to an increase in gain with NSB. This is <~50PE.<br>2) \"Normal\" operation, around 200-1000PE, where the gain decrease is ~35%. This is significantly greater than theoretical expectation. WHY? <br> 3) at high PE >1000PE, the signal starts to hit the rail and saturate, and the gain of the laser induced signal decreases. The signal measured without NSB hits the rail before the signal with NSB=1000MHz, and tends towards G(NSB=1000)/G(NSB=0)=1.  \n"
   ]
  },
  {
   "cell_type": "markdown",
   "metadata": {},
   "source": [
    "![title](CHECData/GainDropatdifferentPE/Plots/GainChangeNSB1000NSB0.png)<br>FIGURE 9: Fractional change in G(NSB(1000))/G(NSB(0)) as a function of PE."
   ]
  },
  {
   "cell_type": "markdown",
   "metadata": {},
   "source": [
    "![title](CHECData/GainDropatdifferentPE/Plots/percentgainchange.png)<br>FIGURE 10: Percentage change in G(NSB(1000))/G(NSB(0)) as a function of PE."
   ]
  },
  {
   "cell_type": "markdown",
   "metadata": {},
   "source": [
    "## Comparison to Theory and comparison to SST-1M"
   ]
  },
  {
   "cell_type": "markdown",
   "metadata": {},
   "source": [
    "The percentage gain drop at 100-1000PE is up to 35% in figure 10. This is significantly greater than has been quoted previously. WHY?\n",
    "\n",
    "### Temperature?\n",
    "- The gain change has been measured at "
   ]
  },
  {
   "cell_type": "markdown",
   "metadata": {},
   "source": [
    "[Return to Home Page](CHECAnalysis.ipynb)"
   ]
  },
  {
   "cell_type": "markdown",
   "metadata": {},
   "source": [
    "# To Do"
   ]
  },
  {
   "cell_type": "markdown",
   "metadata": {},
   "source": [
    "- Theoretical calculation of gain drop<br>\n",
    "- Where is clumping/noise from?<br>\n",
    "- <br>"
   ]
  },
  {
   "cell_type": "code",
   "execution_count": null,
   "metadata": {},
   "outputs": [],
   "source": []
  }
 ],
 "metadata": {
  "kernelspec": {
   "display_name": "Python 3",
   "language": "python",
   "name": "python3"
  },
  "language_info": {
   "codemirror_mode": {
    "name": "ipython",
    "version": 3
   },
   "file_extension": ".py",
   "mimetype": "text/x-python",
   "name": "python",
   "nbconvert_exporter": "python",
   "pygments_lexer": "ipython3",
   "version": "3.6.6"
  }
 },
 "nbformat": 4,
 "nbformat_minor": 2
}
